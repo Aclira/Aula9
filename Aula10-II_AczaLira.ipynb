{
 "cells": [
  {
   "cell_type": "code",
   "execution_count": null,
   "metadata": {
    "collapsed": true
   },
   "outputs": [],
   "source": []
  },
  {
   "cell_type": "code",
   "execution_count": null,
   "metadata": {
    "collapsed": true
   },
   "outputs": [],
   "source": []
  },
  {
   "cell_type": "code",
   "execution_count": null,
   "metadata": {
    "collapsed": true
   },
   "outputs": [],
   "source": []
  },
  {
   "cell_type": "code",
   "execution_count": null,
   "metadata": {
    "collapsed": true
   },
   "outputs": [],
   "source": []
  },
  {
   "cell_type": "code",
   "execution_count": null,
   "metadata": {
    "collapsed": true
   },
   "outputs": [],
   "source": []
  },
  {
   "cell_type": "code",
   "execution_count": null,
   "metadata": {
    "collapsed": true
   },
   "outputs": [],
   "source": []
  },
  {
   "cell_type": "code",
   "execution_count": null,
   "metadata": {
    "collapsed": true
   },
   "outputs": [],
   "source": []
  },
  {
   "cell_type": "code",
   "execution_count": null,
   "metadata": {
    "collapsed": true
   },
   "outputs": [],
   "source": []
  },
  {
   "cell_type": "code",
   "execution_count": null,
   "metadata": {
    "collapsed": true
   },
   "outputs": [],
   "source": []
  },
  {
   "cell_type": "code",
   "execution_count": null,
   "metadata": {
    "collapsed": true
   },
   "outputs": [],
   "source": [
    "troca a linha 1 com a 3\n",
    "Então ele multiplica pela Matrix identidade\n",
    "\n",
    "primeiro resolve o lu e identidade\n",
    "\n",
    "segundo def retorna lu, p, identidada"
   ]
  },
  {
   "cell_type": "code",
   "execution_count": null,
   "metadata": {
    "collapsed": true
   },
   "outputs": [],
   "source": []
  },
  {
   "cell_type": "code",
   "execution_count": 24,
   "metadata": {},
   "outputs": [
    {
     "name": "stdout",
     "output_type": "stream",
     "text": [
      "matriz exemplo\n",
      "[[ 3. -4.  1.]\n",
      " [ 1.  2.  2.]\n",
      " [ 4.  0. -3.]]\n",
      "k,i 0 1\n",
      "k,i 0 2\n",
      "k,i 1 2\n",
      " \n",
      "[[ 0.  0.  1.]\n",
      " [ 0.  1.  0.]\n",
      " [ 1.  0.  0.]]\n",
      " \n",
      "Matriz L\n",
      "[[ 1.          0.          0.        ]\n",
      " [ 0.25        1.          0.        ]\n",
      " [ 1.33333333  0.375       1.        ]]\n",
      "        \n",
      "Matriz U\n",
      "[[ 3.         -4.          1.        ]\n",
      " [ 0.          5.33333333 -4.33333333]\n",
      " [ 0.          0.          4.375     ]]\n",
      "        \n"
     ]
    }
   ],
   "source": [
    "import numpy as np\n",
    "\n",
    "def pivoteamentoParcial(A, k, i):\n",
    "\n",
    "  n = np.shape(A)[0] - 1 #último index\n",
    "\n",
    "  #slicing\n",
    "\n",
    "  #Localizando o  maior valor na coluna do pivô, depois do pivô\n",
    "  col = A[ i : n + 1, k ]\n",
    "\n",
    "  colAbs = np.abs( col )\n",
    "\n",
    "  indexMax = np.argmax( colAbs )\n",
    "\n",
    "\n",
    "  #Trocando a coluna\n",
    "  iChange = indexMax + i\n",
    "  #print( ,iChange )\n",
    "\n",
    "  aux = np.copy( A[ k, : ] )\n",
    "  #print( aux )\n",
    "\n",
    "  A[ k, : ] = np.copy( A[ iChange, : ] )\n",
    "  A[ iChange, : ] = np.copy( aux )\n",
    "\n",
    "\n",
    "  return A\n",
    "\n",
    "\n",
    "U = np.array([[3.,(-4.),(1.)], [1.,2.,(2.)], [(4.),(0),(-3.)]])\n",
    "#b = np.array([1.,2.,3.])\n",
    "#L = np.zeros([3,3])\n",
    "\n",
    "print(\"matriz exemplo\")\n",
    "print(U)\n",
    "L = np.identity(len(U))\n",
    "P = np.identity(3)\n",
    "\n",
    "def FatoracaoLU(U,I):\n",
    "    n = len(U)\n",
    "    m = n*[0]\n",
    "    \n",
    "    for k in range(0,n):\n",
    "        \n",
    "        for i in range(k+1,n):\n",
    "            print(\"k,i\",k,i)\n",
    "            U = pivoteamentoParcial(U,k,i)\n",
    "            I = pivoteamentoParcial(I,k,i)\n",
    "            m=U[i][k]/U[k][k]\n",
    "            U[i][k] = 0\n",
    "            L[i][k] = m\n",
    "    \n",
    "            for j in range(k+1,n):\n",
    "                U[i][j] = U[i][j] - m*U[k][j]\n",
    "    print(\" \")\n",
    "    print(I)\n",
    "    print(\" \")\n",
    "    return L, U\n",
    "                \n",
    "\n",
    "\n",
    "FatoracaoLU(U,P)\n",
    "\n",
    "print(\"Matriz L\")\n",
    "print(L)\n",
    "print(\"        \")\n",
    "print(\"Matriz U\")\n",
    "print(U)\n",
    "print(\"        \")\n",
    "#print(\"Multiplicacao de L por U\")\n",
    "#LU = np.dot(L,U)\n",
    "#print(LU)\n",
    "\n"
   ]
  },
  {
   "cell_type": "code",
   "execution_count": null,
   "metadata": {
    "collapsed": true
   },
   "outputs": [],
   "source": []
  },
  {
   "cell_type": "code",
   "execution_count": null,
   "metadata": {
    "collapsed": true
   },
   "outputs": [],
   "source": []
  },
  {
   "cell_type": "code",
   "execution_count": null,
   "metadata": {
    "collapsed": true
   },
   "outputs": [],
   "source": [
    "'''\n",
    "nL = len(L)\n",
    "y = nL*[0]\n",
    "\n",
    "nU = len(U)\n",
    "x = nU*[0]\n",
    "\n",
    "def solucaoLy(L,b, n):\n",
    "    y[0] = b[0]/L[0][0]\n",
    "    for k in range(1,n-1):\n",
    "        s = 0\n",
    "        for j in range(k-1,n):\n",
    "            s = s + L[k][j]*y[j]\n",
    "        y[k] = (b[k]-s)/L[k][k]   \n",
    "        \n",
    "    return y\n",
    "  \n",
    "solucaoLy(L,b,nL)\n",
    "\n",
    "print(\" \")\n",
    "print(\"Y = \",y)\n",
    "\n",
    "def solucaoUx(U,y,n):\n",
    "    x[n-1] = y[n-1]/U[n-1][n-1]\n",
    "    for k in range(n-1,-1,-1):\n",
    "        s = 0\n",
    "        for j in range(k+1,n):\n",
    "            s = s + U[k][j]*x[j]\n",
    "        x[k] = (y[k]-s)/U[k][k]                 \n",
    "    return x  \n",
    "  \n",
    "  \n",
    "solucaoUx(U,y, nU)\n",
    "\n",
    "print(\" \")\n",
    "print(\"X = \",x)\n",
    "'''"
   ]
  }
 ],
 "metadata": {
  "kernelspec": {
   "display_name": "Python 3",
   "language": "python",
   "name": "python3"
  },
  "language_info": {
   "codemirror_mode": {
    "name": "ipython",
    "version": 3
   },
   "file_extension": ".py",
   "mimetype": "text/x-python",
   "name": "python",
   "nbconvert_exporter": "python",
   "pygments_lexer": "ipython3",
   "version": "3.6.2"
  }
 },
 "nbformat": 4,
 "nbformat_minor": 2
}
