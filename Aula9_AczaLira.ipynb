{
 "cells": [
  {
   "cell_type": "markdown",
   "metadata": {},
   "source": [
    "Índice"
   ]
  },
  {
   "cell_type": "markdown",
   "metadata": {},
   "source": [
    "- [Google: Gauss Elimination Wiki](#Google:-Gauss-Elimination-Wiki)\n",
    "- [Adicionando melhorias ao código](#Adicionando-melhorias-ao-código)\n",
    "- [Inserir o codigo de piv parcial na função de resolução de sistema triangular](#Inserir-o-codigo-de-piv-parcial-na-função-de-resolução-de-sistema-triangular) \n",
    "- [Simulação de máquina de resolução de sistemas lineares com precisão t](#Simulação-de-máquina-de-resolução-de-sistemas-lineares-com-precisão-t)\n",
    "- [Resolução dos sistemas triangulares gerados](#Resolução-dos-sistemas-triangulares-gerados)\n",
    "- [Resposta exata](#Resposta-exata)"
   ]
  },
  {
   "cell_type": "markdown",
   "metadata": {},
   "source": [
    "## Google: Gauss Elimination Wiki"
   ]
  },
  {
   "cell_type": "code",
   "execution_count": null,
   "metadata": {},
   "outputs": [],
   "source": [
    "'''\n",
    "- Se for considerado uma Matriz de inteiros, vai dar erro porque em um momento o pivô vai ser zero e vai encerrar a execução.\n",
    "- Com números floats ele faz o processo com valores aproximados.\n",
    "'''"
   ]
  },
  {
   "cell_type": "code",
   "execution_count": 935,
   "metadata": {},
   "outputs": [
    {
     "name": "stdout",
     "output_type": "stream",
     "text": [
      "matriz exemplo\n",
      "[[ 2.  1. -1.]\n",
      " [-3. -1.  2.]\n",
      " [-2.  1.  2.]]\n",
      "[[ 2.   1.  -1. ]\n",
      " [ 0.   0.5  0.5]\n",
      " [ 0.   0.  -1. ]]\n",
      "[[  8.]\n",
      " [ 13.]\n",
      " [-39.]]\n"
     ]
    }
   ],
   "source": [
    "#https://en.wikipedia.org/wiki/Gaussian_elimination (Fazer o exemplo e dizer por que não funciona)\n",
    "M = np.array([[2.,1.,-1.],[-3.,-1.,2.],[-2.,1.,2.]])\n",
    "b = np.array([[8.],[-11.],[-3.]])\n",
    "\n",
    "print(\"matriz exemplo\")\n",
    "print(M)\n",
    "\n",
    "def eliminacao(a,b):\n",
    "    n = len(a)\n",
    "    m = n*[0]\n",
    "    if(np.linalg.det(a)==0):\n",
    "        return print(\"o DETERMINANTE E ZERO\")\n",
    "    else:\n",
    "        for k in range(0,n-1):\n",
    "            for i in range(k+1,n):\n",
    "                if a[k][k] == 0:\n",
    "                    print(\"ERRO: PIVÔ IGUAL A ZERO\")\n",
    "                m=a[i][k]/a[k][k]\n",
    "                if a[i][k] == 0:\n",
    "                    continue\n",
    "                a[i][k] = 0\n",
    "                for j in range(k+1,n):\n",
    "                    a[i][j] = a[i][j] - m*a[k][j]\n",
    "                    b[i] = b[i] - m*b[k]\n",
    "    print (a)\n",
    "\n",
    "eliminacao(M,b)\n",
    "print(b)"
   ]
  },
  {
   "cell_type": "markdown",
   "metadata": {
    "collapsed": true
   },
   "source": [
    "## Adicionando melhorias ao código"
   ]
  },
  {
   "cell_type": "code",
   "execution_count": null,
   "metadata": {
    "collapsed": true
   },
   "outputs": [],
   "source": [
    "'''\n",
    "Duas condições:\n",
    "-Se elemento zero abaixo do pivô: continue. \n",
    "-Se um dos pivôs for zero mostrar mensagem de erro\n",
    "(Sistema não tem solução se o determinante for igual a zero)\n",
    "'''"
   ]
  },
  {
   "cell_type": "code",
   "execution_count": 2,
   "metadata": {},
   "outputs": [
    {
     "name": "stdout",
     "output_type": "stream",
     "text": [
      "matriz exemplo\n",
      "[[ 1 -1  2]\n",
      " [ 2  1 -1]\n",
      " [-2 -5  3]]\n",
      "[[ 2]\n",
      " [-7]\n",
      " [-5]]\n"
     ]
    }
   ],
   "source": [
    "import numpy as np\n",
    "M = np.array([[1,-1,2],[2,1,-1],[-2,-5,3]])\n",
    "b = np.array([[2],[1],[3]])\n",
    "\n",
    "print(\"matriz exemplo\")\n",
    "print(M)\n",
    "\n",
    "def eliminacao(a,b):\n",
    "    n = len(a)\n",
    "    m = n*[0]\n",
    "    \n",
    "    for k in range(0,n-1):\n",
    "        for i in range(k+1,n):\n",
    "            if a[k][k] == 0:\n",
    "                print(\"ERRO: PIVÔ IGUAL A ZERO\")\n",
    "            m=a[i][k]/a[k][k]\n",
    "            if a[i][k] == 0:\n",
    "                continue\n",
    "            a[i][k] = 0\n",
    "            for j in range(k+1,n):\n",
    "                a[i][j] = a[i][j] - m*a[k][j]\n",
    "                b[i] = b[i] - m*b[k]\n",
    "    return a\n",
    "                \n",
    "\n",
    "\n",
    "eliminacao(M,b)\n",
    "print(b)"
   ]
  },
  {
   "cell_type": "code",
   "execution_count": null,
   "metadata": {},
   "outputs": [],
   "source": [
    "'''\n",
    "Se determinante = 0: mensagem de erro\n",
    "else: aplicar gaussElmination\n",
    "np.linalg.det(a) pra calcular o determinante\n",
    "'''"
   ]
  },
  {
   "cell_type": "code",
   "execution_count": null,
   "metadata": {
    "collapsed": true
   },
   "outputs": [],
   "source": [
    "import numpy as np\n",
    "M = np.array([[1,-1,2],[2,1,-1],[-2,-5,3]])\n",
    "b = np.array([[2],[1],[3]])\n",
    "\n",
    "print(\"matriz exemplo\")\n",
    "print(M)\n",
    "\n",
    "def eliminacao(a,b):\n",
    "    n = len(a)\n",
    "    m = n*[0]\n",
    "    if(np.linalg.det(a)==0):\n",
    "        return print(\"o DETERMINANTE E ZERO\")\n",
    "    else:\n",
    "        for k in range(0,n-1):\n",
    "            for i in range(k+1,n):\n",
    "                if a[k][k] == 0:\n",
    "                    print(\"ERRO: PIVÔ IGUAL A ZERO\")\n",
    "                m=a[i][k]/a[k][k]\n",
    "                if a[i][k] == 0:\n",
    "                    continue\n",
    "                a[i][k] = 0\n",
    "                for j in range(k+1,n):\n",
    "                    a[i][j] = a[i][j] - m*a[k][j]\n",
    "                    b[i] = b[i] - m*b[k]\n",
    "    return a\n",
    "                \n",
    "\n",
    "\n",
    "eliminacao(M,b)\n",
    "print(b)"
   ]
  },
  {
   "cell_type": "markdown",
   "metadata": {},
   "source": [
    "## Inserir o codigo de piv parcial na função de resolução de sistema triangular"
   ]
  },
  {
   "cell_type": "code",
   "execution_count": 27,
   "metadata": {},
   "outputs": [
    {
     "name": "stdout",
     "output_type": "stream",
     "text": [
      "[[ 3  2  4 -1]\n",
      " [ 0  1  0  3]\n",
      " [ 0 -3 -5  7]\n",
      " [ 0  2  4  0]]\n",
      "n  3 \n",
      "\n",
      "[[-3]\n",
      " [ 2]]\n",
      "colAbs \n",
      " [[3]\n",
      " [2]]\n",
      "0\n",
      "2\n",
      "[[0 1 0 3]]\n",
      "[[ 3  2  4 -1]\n",
      " [ 0 -3 -5  7]\n",
      " [ 0  1  0  3]\n",
      " [ 0  2  4  0]]\n"
     ]
    }
   ],
   "source": [
    "#colocar esse código dentro do de resolução de sistema triangular\n",
    "#Pivoteamento parcial\n",
    "\n",
    "Amat  = np.matrix([[3, 2, 4, -1], [0, 1, 0, 3], [0, -3, -5, 7], [0, 2, 4, 0] ])\n",
    "Aarr  = np.array([[3, 2, 4, -1], [0, 1, 0, 3], [0, -3, -5, 7], [0, 2, 4, 0] ])\n",
    "\n",
    "\n",
    "A = Amat\n",
    "print(A)\n",
    "\n",
    "k = 1\n",
    "i = 2\n",
    "n = np.shape(A)[0] - 1#último index\n",
    "print('n ', n, '\\n')\n",
    "\n",
    "#slicing\n",
    "#Pegando a parte que ta abaixo do pivô\n",
    "print( np.array( A[ i : n + 1, k ] ) )\n",
    "\n",
    "#Localizando o  maior valor na coluna do pivô, depois do pivô\n",
    "col = A[ i : n + 1, k ]\n",
    "\n",
    "colAbs = np.abs( col )\n",
    "print( 'colAbs \\n', colAbs )\n",
    "\n",
    "#Retorna o index do valor máximo\n",
    "indexMax = np.argmax( colAbs )\n",
    "print( indexMax )\n",
    "\n",
    "\n",
    "#Trocando a coluna\n",
    "iChange = indexMax + i\n",
    "print( iChange )\n",
    "\n",
    "aux = np.copy( A[ k, : ] )\n",
    "print( aux )\n",
    "\n",
    "#trocando a linha\n",
    "A[ k, : ] = np.copy( A[ iChange, : ] )\n",
    "A[ iChange, : ] = np.copy( aux )\n",
    "\n",
    "print(A)"
   ]
  },
  {
   "cell_type": "code",
   "execution_count": 756,
   "metadata": {},
   "outputs": [
    {
     "name": "stdout",
     "output_type": "stream",
     "text": [
      "[[ 3  2  4 -1]\n",
      " [ 0  1  0  3]\n",
      " [ 0 -3 -5  7]\n",
      " [ 0  2  4  0]]\n",
      "n  3\n",
      "k  1\n",
      "i 2\n",
      "n Ultimo  3 \n",
      "\n",
      "[-3  2]\n",
      "colAbs \n",
      " [3 2]\n",
      "0\n",
      "[[ 3  2  4 -1]\n",
      " [ 0 -3 -5  7]\n",
      " [ 0  1  0  3]\n",
      " [ 0  2  4  0]]\n",
      "m  -0.3333333333333333\n",
      "j 2\n",
      "j 3\n",
      "i 3\n",
      "n Ultimo  3 \n",
      "\n",
      "[2]\n",
      "colAbs \n",
      " [2]\n",
      "0\n",
      "[[ 3  2  4 -1]\n",
      " [ 0  2  4  0]\n",
      " [ 0  0  0  3]\n",
      " [ 0 -3 -5  7]]\n",
      "m  -1.5\n",
      "j 2\n",
      "j 3\n",
      "k  2\n",
      "i 3\n",
      "n Ultimo  3 \n",
      "\n",
      "[-5]\n",
      "colAbs \n",
      " [5]\n",
      "0\n",
      "[[ 3  2  4 -1]\n",
      " [ 0  2  4  0]\n",
      " [ 0  0 -5  7]\n",
      " [ 0  0  0  3]]\n",
      "m  -0.0\n",
      "j 3\n"
     ]
    },
    {
     "data": {
      "text/plain": [
       "array([[ 3,  2,  4, -1],\n",
       "       [ 0,  2,  4,  0],\n",
       "       [ 0,  0, -5,  7],\n",
       "       [ 0,  0,  0,  3]])"
      ]
     },
     "execution_count": 756,
     "metadata": {},
     "output_type": "execute_result"
    }
   ],
   "source": [
    "import numpy as np\n",
    "\n",
    "def pivoteamentoParcial(A, k, i):\n",
    "\n",
    "  n = np.shape(A)[0] - 1 #último index\n",
    "  print('n Ultimo ', n, '\\n')\n",
    "\n",
    "  #slicing\n",
    "  print( np.array( A[ i : n + 1, k ] ) )\n",
    "\n",
    "  #Localizando o  maior valor na coluna do pivô, depois do pivô\n",
    "  col = A[ i : n + 1, k ]\n",
    "\n",
    "  colAbs = np.abs( col )\n",
    "  print( 'colAbs \\n', colAbs )\n",
    "\n",
    "  indexMax = np.argmax( colAbs )\n",
    "  print( indexMax )\n",
    "\n",
    "\n",
    "  #Trocando a coluna\n",
    "  iChange = indexMax + i\n",
    "  #print( ,iChange )\n",
    "\n",
    "  aux = np.copy( A[ k, : ] )\n",
    "  #print( aux )\n",
    "\n",
    "  A[ k, : ] = np.copy( A[ iChange, : ] )\n",
    "  A[ iChange, : ] = np.copy( aux )\n",
    "\n",
    "  print(A)\n",
    "\n",
    "  return A\n",
    "\n",
    "\n",
    "\n",
    "def eliminacaoDegauss( A, b, n ): #Linha do pivô\n",
    "    for k in np.arange( 1, n ): #\n",
    "        print('k ', k)\n",
    "        for i in np.arange( k + 1, n + 1 ): #Eliminação em cada linha\n",
    "            print('i', i )\n",
    "            A = pivoteamentoParcial(A,k,i) \n",
    "            m = A[ i, k ] / A[ k, k ] #Se for considerada divisão de inteiros dará zero\n",
    "            print('m ', m) \n",
    "            A[ i, k ] = 0\n",
    "            for j in np.arange( k + 1, n + 1 ):\n",
    "                print('j', j )\n",
    "        \n",
    "    return A\n",
    "\n",
    "\n",
    "\n",
    "\n",
    "b = np.array( [ 5, 6., 7., 15. ] )\n",
    "\n",
    "Amat  = np.matrix([[3, 2, 4, -1], [0, 1, 0, 3], [0, -3, -5, 7], [0, 2, 4, 0] ])\n",
    "\n",
    "A = Amat\n",
    "print(A)\n",
    "\n",
    "n = np.shape(A)[0] - 1#último index\n",
    "print('n ', n)\n",
    "\n",
    "eliminacaoDegauss( np.copy( A ), np.copy( b ), n )"
   ]
  },
  {
   "cell_type": "markdown",
   "metadata": {},
   "source": [
    "## Resolução de exemplo em sala"
   ]
  },
  {
   "cell_type": "code",
   "execution_count": 19,
   "metadata": {},
   "outputs": [
    {
     "name": "stdout",
     "output_type": "stream",
     "text": [
      "[ 0.50005001  2.49994999]\n"
     ]
    }
   ],
   "source": [
    "M = np.array([[0.0002, 2],[2,2]])\n",
    "b = np.array([5, 6])\n",
    "x = np.linalg.solve(M,b)\n",
    "print(x)"
   ]
  },
  {
   "cell_type": "markdown",
   "metadata": {},
   "source": [
    "## Simulação de máquina de resolução de sistemas lineares com precisão t"
   ]
  },
  {
   "cell_type": "code",
   "execution_count": null,
   "metadata": {
    "collapsed": true
   },
   "outputs": [],
   "source": [
    "#Atividade pra casa\n",
    "Passar matriz A, matriz B e número de dígitos da máquina. \n",
    "\n",
    "Fazer o def que simule a última parte da apresentação Resolução de Sistemas Lineares - Método da Eliminação de Gauss,\n",
    "na qual um máquina com precisão t é usada obter a resposta de um sistema linear com e sem pivoteamento parcial. \n",
    "O def tem como parâmetros a matriz A, b e t dígitos, pelo menos. \n",
    "Deve retornar a resposta do sistema e também se a resposta está correta. \n",
    "Fazer um código    genérico, que funcione para outras matrizes A e diferentes precisões t. \n",
    "Usar o exemplo que foi apresentado em sala de aula para testar o def.\n",
    "\n",
    "Nota: para somar ou subtrair dois números, o expoente menor deve ser igualado ao expoente maior."
   ]
  },
  {
   "cell_type": "code",
   "execution_count": 951,
   "metadata": {},
   "outputs": [
    {
     "name": "stdout",
     "output_type": "stream",
     "text": [
      "Matriz Exemplo\n",
      "[['0.2  *10**-3' '0.2*10**1']\n",
      " ['0.2*10**1' '0.2*10**1']]\n",
      " \n",
      "Vetor b\n",
      "['0.5*10**1', '0.6*10**1']\n",
      "  \n",
      "-\n",
      "Matriz final sem pivotamento parcial\n",
      "[['0.2  *10**-3' '0.2*10**1']\n",
      " ['0' '-0.199*10**3']]\n",
      "           \n",
      "Matriz final com pivotamento parcial\n",
      "[['0.2*10**-3' '0.2*10**1']\n",
      " ['0' '0.2*10**1']]\n"
     ]
    }
   ],
   "source": [
    "def Truncamento(num, exp, lim):\n",
    "  sinal = ''\n",
    "  if (int(num.split('.')[0])>0 or (int(num.split('.')[0])<0) ) :\n",
    "     \n",
    "    parteInt=str(len(num.split('.')[0]))\n",
    "    \n",
    "    \n",
    "    if(num[0] == '-'):\n",
    "      sinal = num[0]\n",
    "      print(sinal)\n",
    "      num = num.replace(num[0],\"\")\n",
    "      fracao = num.split('.')[0]\n",
    "\n",
    "    elif(num[0]==0 and num[0] != '-'):\n",
    "        fracao=num.split('.')[0] + num.split('.')[1] \n",
    "    else:\n",
    "        fracao=num.split('.')[0] \n",
    "        \n",
    "\n",
    "    if(len(fracao)>lim): fracao=fracao[:lim] \n",
    "    \n",
    "    if(int(parteInt)>exp):\n",
    "      fracao=str(sinal) + '0.' + fracao + '*10**' + str(exp)\n",
    "    else: \n",
    "      fracao='0.' + fracao + '*10**' + parteInt\n",
    "\n",
    "  else:\n",
    "    if(num[0] == '-'):\n",
    "      sinal = num[0]\n",
    "\n",
    "    fracao=num.split('.')[1] \n",
    "\n",
    "    i=0\n",
    "    while (True):\n",
    "      if (fracao[i]=='0'): i+=1\n",
    "      else: break\n",
    "    fracao= fracao.replace('0', '', i)\n",
    "\n",
    "    if (len(fracao)>lim): fracao=fracao[:lim]\n",
    "\n",
    "    if (i>=exp): \n",
    "      fracao= str(sinal) + '0.' + fracao + '*10**-' + str(exp)\n",
    "    elif (i==0): \n",
    "      \n",
    "      fracao= str(sinal) + '0.' + fracao + '*10**0'\n",
    "    else: \n",
    "      str(i)\n",
    "      new_exp = int('-'+str(i)) \n",
    "      fracao= str(sinal) + '0.' + fracao + '*10**-' + str(i)\n",
    "\n",
    "  #print('Truncamento:', fracao)\n",
    "  return fracao\n",
    "\n",
    "\n",
    "\n",
    "M = np.array([['0.0002      ', '2'] , ['2' , '2']])\n",
    "b = (['5','6'])\n",
    "t = 3\n",
    "n = len (M)\n",
    "#n = np.shape(M)[0] - 1#último index\n",
    "\n",
    "\n",
    "\n",
    "def maquina(M,b,t):\n",
    "    #print(\"Matriz exemplo\")\n",
    "    #print(M)\n",
    "    \n",
    "    #fracoes = []\n",
    "    #expoentes = []\n",
    "    \n",
    "    \n",
    "    n = len(M)\n",
    "    for k in range(0,n):\n",
    "        for i in range(0,n):\n",
    "            #print(k,i)\n",
    "            #print(\"aaaa\",M[k][i])\n",
    "            M[k][i] = Truncamento(M[k][i], 5, 3)\n",
    "    bt = len(b)\n",
    "    for j in range(0,bt):\n",
    "        b[j] = Truncamento(b[j],t,t)\n",
    "        \n",
    "    print(\"Matriz Exemplo\")\n",
    "    print(M)\n",
    "    \n",
    "    print(\" \")\n",
    "    \n",
    "    print(\"Vetor b\")\n",
    "    print(b)\n",
    "    print(\"  \")\n",
    "    \n",
    "    return M,b\n",
    "    \n",
    "    \n",
    "maquina(M,b,t)\n",
    "\n",
    "def eliminacao(M,b,t):\n",
    "    n = len(M)\n",
    "    m = n*[0]\n",
    "    for k in range(0,n-1):\n",
    "        for i in range(k+1,n):\n",
    "            if eval(M[k][k]) == 0:\n",
    "                print(\"ERRO: PIVÔ IGUAL A ZERO\")\n",
    "            m=(eval(M[i][k])/eval(M[k][k]))\n",
    "            #print(\"Esse e o m\",m)\n",
    "            M[i][k] = 0\n",
    "            for j in range(k+1,n):\n",
    "                #print(\"M[i][j]\",M[i][j])\n",
    "                #print(\"M[k][j]\",M[k][j])\n",
    "                \n",
    "                M[i][j] = eval(M[i][j]) - m*eval(M[k][j])\n",
    "                \n",
    "                #print(M[i][j])\n",
    "                M[i][j] = float(M[i][j])\n",
    "                \n",
    "                #M[i][j] = np.around(float(M[i][j]),3)\n",
    "                M[i][j] = Truncamento(M[i][j],t,t)\n",
    "                b[i] = str(eval(b[i]) - m*eval(b[k]))\n",
    "    #print(\"B\",b)\n",
    "    return M\n",
    "semPiv = eliminacao(np.copy(M),np.copy(b),t)\n",
    "print(\"Matriz final sem pivotamento parcial\")\n",
    "print(semPiv)\n",
    "\n",
    "\n",
    "def pivoteamentoParcial(A, k, i):\n",
    "  n = np.shape(A)[0] - 1 #último index\n",
    "  #print('n Ultimo ', n, '\\n')\n",
    "  \n",
    "  for k in range(0,2):\n",
    "        for i in range(0,2):\n",
    "            #print(A[k][i])\n",
    "            A[k][i] = eval(A[k][i])\n",
    "            #print(A[k][i])\n",
    "    \n",
    "  #slicing\n",
    "  np.array( A[ i : n + 1, k ])\n",
    "\n",
    "  #Localizando o  maior valor na coluna do pivô, depois do pivô\n",
    "  col = float(A[ i : n + 1, k ])\n",
    "  #print(\"col\",col)\n",
    "\n",
    "  colAbs = np.abs( col )\n",
    "  #print( 'colAbs \\n', colAbs )\n",
    "\n",
    "  indexMax = np.argmax( colAbs )\n",
    "  #print( indexMax )\n",
    "\n",
    "\n",
    "  #Trocando a coluna\n",
    "  iChange = indexMax + i\n",
    "  #print(\"Troca\" ,iChange )\n",
    "\n",
    "  aux = np.copy( A[ k, : ] )\n",
    "  #print(\"aux\", aux )\n",
    "\n",
    "  A[ k, : ] = np.copy( A[ iChange, : ] )\n",
    "  A[ iChange, : ] = np.copy( aux )\n",
    "\n",
    "  #print(A)\n",
    "  for k in range(0,2):\n",
    "    for i in range(0,2):\n",
    "        A[k][i] = Truncamento(A[k][i],t,t)\n",
    "\n",
    "  return A\n",
    "\n",
    "\n",
    "def eliminacaoDegauss( A, b, n,t ): #Linha do pivô\n",
    "    \n",
    "    for k in np.arange( 0, n ): #\n",
    "        #print('k ', k)\n",
    "        for i in np.arange( k + 1, n + 1 ): #Eliminação em cada linha\n",
    "            #print('i', i )\n",
    "            A = pivoteamentoParcial(A,k,i) \n",
    "            m = (eval(M[i][k])/eval(M[k][k])) #Se for considerada divisão de inteiros dará zero\n",
    "            #print('m ', m) \n",
    "            A[ i, k ] = 0\n",
    "    #print(\"BBBBBB\",b)\n",
    "    return A\n",
    "\n",
    "\n",
    "n = np.shape(A)[0] - 1#último index\n",
    "\n",
    "t = 3\n",
    "\n",
    "M = eliminacaoDegauss( np.copy( M ), np.copy( b ), n,t )\n",
    "print(\"           \")\n",
    "print(\"Matriz final com pivotamento parcial\")\n",
    "print(M)\n",
    "\n"
   ]
  },
  {
   "cell_type": "markdown",
   "metadata": {},
   "source": [
    "## Resolução dos sistemas triangulares gerados"
   ]
  },
  {
   "cell_type": "code",
   "execution_count": 945,
   "metadata": {},
   "outputs": [
    {
     "name": "stdout",
     "output_type": "stream",
     "text": [
      "Resultado com pivotamento parcial [-5000.0, 3.0]\n",
      "              \n",
      "Resultado sem pivotamento parcial [25301.50753768844, -0.03015075376884422]\n"
     ]
    }
   ],
   "source": [
    "#Solução\n",
    "def resolSisTriang(a,b):\n",
    "    n = len(a)\n",
    "    x = n*[0]\n",
    "    x[n-1] = eval(b[n-1])/eval(a[n-1][n-1])\n",
    "    for k in range(n-1,-1,-1):\n",
    "        s = 0\n",
    "        for j in range(k+1,n):\n",
    "            s = s + eval(a[k][j])*x[j]\n",
    "        #print(\"s\",s)   \n",
    "        #print(\"x[k]\",x[k])\n",
    "        #print(\"b[k]\",b[k])\n",
    "        #print(\"a[k][k]\",a[k][k])\n",
    "        x[k] = (eval(b[k]) - s)/eval(a[k][k])     \n",
    "        #print(\"X[k]\",x[k])\n",
    "    return x\n",
    "\n",
    "\n",
    "\n",
    "resultadoEncontradoComPiv = resolSisTriang(M,b)\n",
    "resultadoEncontradoSemPiv = resolSisTriang(semPiv,b)\n",
    "print(\"Resultado com pivotamento parcial\", resultadoEncontradoComPiv)\n",
    "print(\"              \")\n",
    "print(\"Resultado sem pivotamento parcial\", resultadoEncontradoSemPiv)"
   ]
  },
  {
   "cell_type": "markdown",
   "metadata": {},
   "source": [
    "## Resposta exata"
   ]
  },
  {
   "cell_type": "code",
   "execution_count": 796,
   "metadata": {},
   "outputs": [
    {
     "name": "stdout",
     "output_type": "stream",
     "text": [
      "[0.50005001 2.49994999]\n"
     ]
    }
   ],
   "source": [
    "matrix = [[0.0002,2],[2,2]] \n",
    "vector = [5,6]\n",
    "\n",
    "resultadoReal = np.linalg.solve(matrix,vector)\n",
    "print(resultadoReal)"
   ]
  }
 ],
 "metadata": {
  "anaconda-cloud": {},
  "kernelspec": {
   "display_name": "Python 3",
   "language": "python",
   "name": "python3"
  },
  "language_info": {
   "codemirror_mode": {
    "name": "ipython",
    "version": 3
   },
   "file_extension": ".py",
   "mimetype": "text/x-python",
   "name": "python",
   "nbconvert_exporter": "python",
   "pygments_lexer": "ipython3",
   "version": "3.6.5"
  }
 },
 "nbformat": 4,
 "nbformat_minor": 1
}
