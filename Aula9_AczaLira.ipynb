{
 "cells": [
  {
   "cell_type": "code",
   "execution_count": null,
   "metadata": {
    "collapsed": true
   },
   "outputs": [],
   "source": []
  },
  {
   "cell_type": "markdown",
   "metadata": {},
   "source": [
    "## Google: Gauss Elimination Wiki"
   ]
  },
  {
   "cell_type": "code",
   "execution_count": null,
   "metadata": {},
   "outputs": [],
   "source": [
    "Tem divisão por zero\n",
    "Sempre a primeira linha sendo utilizada pro calculo?"
   ]
  },
  {
   "cell_type": "code",
   "execution_count": 60,
   "metadata": {},
   "outputs": [
    {
     "name": "stdout",
     "output_type": "stream",
     "text": [
      "matriz exemplo\n",
      "[[ 2  1 -1]\n",
      " [-3 -1  2]\n",
      " [-2  1  2]]\n",
      "a[i][k] -3\n",
      "a[K][k] 2\n",
      "ESSE E O M -1.5\n",
      "aaaaaaaaaaaaaaaaaaaaaaaaaaaaaaa a[i][k] = 0\n",
      "  \n",
      "[[ 2  1 -1]\n",
      " [ 0 -1  2]\n",
      " [-2  1  2]]\n",
      "  \n",
      "a[i][j] -1\n",
      "             \n",
      "a[k][j] 1\n",
      "ESSE E O M -1.5\n",
      "  \n",
      "[[ 2  1 -1]\n",
      " [ 0  0  2]\n",
      " [-2  1  2]]\n",
      "  \n",
      "a[i][j] 2\n",
      "             \n",
      "a[k][j] -1\n",
      "ESSE E O M -1.5\n",
      "a[i][k] -2\n",
      "a[K][k] 2\n",
      "ESSE E O M -1.0\n",
      "aaaaaaaaaaaaaaaaaaaaaaaaaaaaaaa a[i][k] = 0\n",
      "  \n",
      "[[ 2  1 -1]\n",
      " [ 0  0  0]\n",
      " [ 0  1  2]]\n",
      "  \n",
      "a[i][j] 1\n",
      "             \n",
      "a[k][j] 1\n",
      "ESSE E O M -1.0\n",
      "  \n",
      "[[ 2  1 -1]\n",
      " [ 0  0  0]\n",
      " [ 0  2  2]]\n",
      "  \n",
      "a[i][j] 2\n",
      "             \n",
      "a[k][j] -1\n",
      "ESSE E O M -1.0\n",
      "a[i][k] 2\n",
      "a[K][k] 0\n",
      "ESSE E O M inf\n",
      "aaaaaaaaaaaaaaaaaaaaaaaaaaaaaaa a[i][k] = 0\n",
      "  \n",
      "[[ 2  1 -1]\n",
      " [ 0  0  0]\n",
      " [ 0  0  1]]\n",
      "  \n",
      "a[i][j] 1\n",
      "             \n",
      "a[k][j] 0\n",
      "ESSE E O M inf\n"
     ]
    },
    {
     "name": "stderr",
     "output_type": "stream",
     "text": [
      "C:\\Users\\aczal\\Anaconda3\\lib\\site-packages\\ipykernel_launcher.py:21: RuntimeWarning: divide by zero encountered in long_scalars\n",
      "C:\\Users\\aczal\\Anaconda3\\lib\\site-packages\\ipykernel_launcher.py:35: RuntimeWarning: invalid value encountered in double_scalars\n"
     ]
    },
    {
     "ename": "ValueError",
     "evalue": "cannot convert float NaN to integer",
     "output_type": "error",
     "traceback": [
      "\u001b[1;31m---------------------------------------------------------------------------\u001b[0m",
      "\u001b[1;31mValueError\u001b[0m                                Traceback (most recent call last)",
      "\u001b[1;32m<ipython-input-60-2d1203088bde>\u001b[0m in \u001b[0;36m<module>\u001b[1;34m()\u001b[0m\n\u001b[0;32m     39\u001b[0m \u001b[1;33m\u001b[0m\u001b[0m\n\u001b[0;32m     40\u001b[0m \u001b[1;33m\u001b[0m\u001b[0m\n\u001b[1;32m---> 41\u001b[1;33m \u001b[0meliminacao\u001b[0m\u001b[1;33m(\u001b[0m\u001b[0mM\u001b[0m\u001b[1;33m,\u001b[0m\u001b[0mb\u001b[0m\u001b[1;33m)\u001b[0m\u001b[1;33m\u001b[0m\u001b[0m\n\u001b[0m\u001b[0;32m     42\u001b[0m \u001b[0mprint\u001b[0m\u001b[1;33m(\u001b[0m\u001b[0mb\u001b[0m\u001b[1;33m)\u001b[0m\u001b[1;33m\u001b[0m\u001b[0m\n",
      "\u001b[1;32m<ipython-input-60-2d1203088bde>\u001b[0m in \u001b[0;36meliminacao\u001b[1;34m(a, b)\u001b[0m\n\u001b[0;32m     33\u001b[0m                 \u001b[0mprint\u001b[0m\u001b[1;33m(\u001b[0m\u001b[1;34m\"a[k][j]\"\u001b[0m\u001b[1;33m,\u001b[0m\u001b[0ma\u001b[0m\u001b[1;33m[\u001b[0m\u001b[0mk\u001b[0m\u001b[1;33m]\u001b[0m\u001b[1;33m[\u001b[0m\u001b[0mj\u001b[0m\u001b[1;33m]\u001b[0m\u001b[1;33m)\u001b[0m\u001b[1;33m\u001b[0m\u001b[0m\n\u001b[0;32m     34\u001b[0m                 \u001b[0mprint\u001b[0m\u001b[1;33m(\u001b[0m\u001b[1;34m\"ESSE E O M\"\u001b[0m\u001b[1;33m,\u001b[0m \u001b[0mm\u001b[0m\u001b[1;33m)\u001b[0m\u001b[1;33m\u001b[0m\u001b[0m\n\u001b[1;32m---> 35\u001b[1;33m                 \u001b[0ma\u001b[0m\u001b[1;33m[\u001b[0m\u001b[0mi\u001b[0m\u001b[1;33m]\u001b[0m\u001b[1;33m[\u001b[0m\u001b[0mj\u001b[0m\u001b[1;33m]\u001b[0m \u001b[1;33m=\u001b[0m \u001b[0ma\u001b[0m\u001b[1;33m[\u001b[0m\u001b[0mi\u001b[0m\u001b[1;33m]\u001b[0m\u001b[1;33m[\u001b[0m\u001b[0mj\u001b[0m\u001b[1;33m]\u001b[0m \u001b[1;33m-\u001b[0m \u001b[0mm\u001b[0m\u001b[1;33m*\u001b[0m\u001b[0ma\u001b[0m\u001b[1;33m[\u001b[0m\u001b[0mk\u001b[0m\u001b[1;33m]\u001b[0m\u001b[1;33m[\u001b[0m\u001b[0mj\u001b[0m\u001b[1;33m]\u001b[0m\u001b[1;33m\u001b[0m\u001b[0m\n\u001b[0m\u001b[0;32m     36\u001b[0m                 \u001b[0mb\u001b[0m\u001b[1;33m[\u001b[0m\u001b[0mi\u001b[0m\u001b[1;33m]\u001b[0m \u001b[1;33m=\u001b[0m \u001b[0mb\u001b[0m\u001b[1;33m[\u001b[0m\u001b[0mi\u001b[0m\u001b[1;33m]\u001b[0m \u001b[1;33m-\u001b[0m \u001b[0mm\u001b[0m\u001b[1;33m*\u001b[0m\u001b[0mb\u001b[0m\u001b[1;33m[\u001b[0m\u001b[0mk\u001b[0m\u001b[1;33m]\u001b[0m\u001b[1;33m\u001b[0m\u001b[0m\n\u001b[0;32m     37\u001b[0m     \u001b[1;32mreturn\u001b[0m \u001b[0ma\u001b[0m\u001b[1;33m\u001b[0m\u001b[0m\n",
      "\u001b[1;31mValueError\u001b[0m: cannot convert float NaN to integer"
     ]
    }
   ],
   "source": [
    "#https://en.wikipedia.org/wiki/Gaussian_elimination (Fazer o exemplo e dizer por que não funciona)\n",
    "M = np.array([[2,1,-1],[-3,-1,2],[-2,1,2]])\n",
    "b = np.array([[8],[-11],[-3]])\n",
    "\n",
    "Matriz = [[1,3,1],[1,1,-1],[3,11,5]] \n",
    "Vetor = [9,1,35]\n",
    "\n",
    "print(\"matriz exemplo\")\n",
    "print(M)\n",
    "\n",
    "def eliminacao(a,b):\n",
    "    n = len(a)\n",
    "    m = n*[0]\n",
    "    \n",
    "    for k in range(0,n-1):\n",
    "        for i in range(k+1,n):\n",
    "\n",
    "            print(\"a[i][k]\",a[i][k])\n",
    "            print(\"a[K][k]\",a[k][k])\n",
    "            \n",
    "            m=a[i][k]/a[k][k]\n",
    "            \n",
    "            print(\"ESSE E O M\", m)\n",
    "            \n",
    "            a[i][k] = 0\n",
    "            print(\"aaaaaaaaaaaaaaaaaaaaaaaaaaaaaaa a[i][k] = 0\")\n",
    "            for j in range(k+1,n):\n",
    "                print(\"  \")\n",
    "                print(a)\n",
    "                print(\"  \")\n",
    "                print(\"a[i][j]\",a[i][j])\n",
    "                print(\"             \")\n",
    "                print(\"a[k][j]\",a[k][j])\n",
    "                print(\"ESSE E O M\", m)\n",
    "                a[i][j] = a[i][j] - m*a[k][j]\n",
    "                b[i] = b[i] - m*b[k]\n",
    "    return a\n",
    "                \n",
    "\n",
    "\n",
    "eliminacao(M,b)\n",
    "print(b)"
   ]
  },
  {
   "cell_type": "markdown",
   "metadata": {
    "collapsed": true
   },
   "source": [
    "## Adicionando condições ao código"
   ]
  },
  {
   "cell_type": "code",
   "execution_count": null,
   "metadata": {
    "collapsed": true
   },
   "outputs": [],
   "source": [
    "'''\n",
    "Duas condições\n",
    "-Se elemento zero abaixo do pivô: continue. \n",
    "-Se um dos pivôs for zero mostrar mensagem de erro\n",
    "(Sistema não tem solução se o determinante for igual a zero)\n",
    "'''"
   ]
  },
  {
   "cell_type": "code",
   "execution_count": 2,
   "metadata": {},
   "outputs": [
    {
     "name": "stdout",
     "output_type": "stream",
     "text": [
      "matriz exemplo\n",
      "[[ 1 -1  2]\n",
      " [ 2  1 -1]\n",
      " [-2 -5  3]]\n",
      "[[ 2]\n",
      " [-7]\n",
      " [-5]]\n"
     ]
    }
   ],
   "source": [
    "import numpy as np\n",
    "M = np.array([[1,-1,2],[2,1,-1],[-2,-5,3]])\n",
    "b = np.array([[2],[1],[3]])\n",
    "\n",
    "print(\"matriz exemplo\")\n",
    "print(M)\n",
    "\n",
    "def eliminacao(a,b):\n",
    "    n = len(a)\n",
    "    m = n*[0]\n",
    "    \n",
    "    for k in range(0,n-1):\n",
    "        for i in range(k+1,n):\n",
    "            if a[k][k] == 0:\n",
    "                print(\"Pivo igual a zero, meu\")\n",
    "            m=a[i][k]/a[k][k]\n",
    "            a[i][k] = 0\n",
    "            for j in range(k+1,n):\n",
    "                a[i][j] = a[i][j] - m*a[k][j]\n",
    "                b[i] = b[i] - m*b[k]\n",
    "    return a\n",
    "                \n",
    "\n",
    "\n",
    "eliminacao(M,b)\n",
    "print(b)"
   ]
  },
  {
   "cell_type": "code",
   "execution_count": null,
   "metadata": {
    "collapsed": true
   },
   "outputs": [],
   "source": [
    "P/ casa(3)"
   ]
  },
  {
   "cell_type": "code",
   "execution_count": null,
   "metadata": {
    "collapsed": true
   },
   "outputs": [],
   "source": [
    "#Se determinante = 0: mensagem de erro\n",
    "# else: aplicar gaussElmination\n",
    "#np.linalg.det(a) pra calcular o determinante"
   ]
  },
  {
   "cell_type": "code",
   "execution_count": 17,
   "metadata": {},
   "outputs": [
    {
     "name": "stdout",
     "output_type": "stream",
     "text": [
      "Matriz exemplo\n",
      "[[ 1  2  3  4]\n",
      " [ 0  5  6  7]\n",
      " [ 0  0  8  9]\n",
      " [ 0  0  0 10]]\n"
     ]
    },
    {
     "data": {
      "text/plain": [
       "[2.9950000000000001,\n",
       " 0.18999999999999995,\n",
       " 0.27500000000000002,\n",
       " 0.20000000000000001]"
      ]
     },
     "execution_count": 17,
     "metadata": {},
     "output_type": "execute_result"
    }
   ],
   "source": [
    "def PivParcial():\n",
    "    \n",
    "\n",
    "M = np.array([[1,2,3,4], [0,5,6,7], [0,0,8,9],[0,0,0,10]])\n",
    "b = np.array([5,4,4,2])\n",
    "\n",
    "print(\"Matriz exemplo\")\n",
    "print(M)\n",
    "\n",
    "def ResolSisTriang(a,b):\n",
    "    n = len(a)\n",
    "    x = n*[0]\n",
    "    x[n-1] = b[n-1]/a[n-1][n-1]\n",
    "    for k in range(n-1,-1,-1):\n",
    "        s = 0\n",
    "        for j in range(k+1,n):\n",
    "            s = s + a[k][j]*x[j]\n",
    "        x[k] = (b[k]-s)/a[k][k]\n",
    "    return x\n",
    "\n",
    "ResolSisTriang(M,b)\n",
    "#troc linha por coluna = pivoteamento completo\n",
    "#troc linha por linha = parcial"
   ]
  },
  {
   "cell_type": "markdown",
   "metadata": {},
   "source": [
    "## Inserir o trecho de código abaixo na função de resolução de sistema triangular"
   ]
  },
  {
   "cell_type": "code",
   "execution_count": 27,
   "metadata": {},
   "outputs": [
    {
     "name": "stdout",
     "output_type": "stream",
     "text": [
      "[[ 3  2  4 -1]\n",
      " [ 0  1  0  3]\n",
      " [ 0 -3 -5  7]\n",
      " [ 0  2  4  0]]\n",
      "n  3 \n",
      "\n",
      "[[-3]\n",
      " [ 2]]\n",
      "colAbs \n",
      " [[3]\n",
      " [2]]\n",
      "0\n",
      "2\n",
      "[[0 1 0 3]]\n",
      "[[ 3  2  4 -1]\n",
      " [ 0 -3 -5  7]\n",
      " [ 0  1  0  3]\n",
      " [ 0  2  4  0]]\n"
     ]
    }
   ],
   "source": [
    "#colocar esse código dentro do de resolução de sistema triangular\n",
    "#Pivoteamento parcial\n",
    "\n",
    "Amat  = np.matrix([[3, 2, 4, -1], [0, 1, 0, 3], [0, -3, -5, 7], [0, 2, 4, 0] ])\n",
    "Aarr  = np.array([[3, 2, 4, -1], [0, 1, 0, 3], [0, -3, -5, 7], [0, 2, 4, 0] ])\n",
    "\n",
    "\n",
    "A = Amat\n",
    "print(A)\n",
    "\n",
    "k = 1\n",
    "i = 2\n",
    "n = np.shape(A)[0] - 1#último index\n",
    "print('n ', n, '\\n')\n",
    "\n",
    "#slicing\n",
    "#Pegando a parte que ta abaixo do pivô\n",
    "print( np.array( A[ i : n + 1, k ] ) )\n",
    "\n",
    "#Localizando o  maior valor na coluna do pivô, depois do pivô\n",
    "col = A[ i : n + 1, k ]\n",
    "\n",
    "colAbs = np.abs( col )\n",
    "print( 'colAbs \\n', colAbs )\n",
    "\n",
    "#Retorna o index do valor máximo\n",
    "indexMax = np.argmax( colAbs )\n",
    "print( indexMax )\n",
    "\n",
    "\n",
    "#Trocando a coluna\n",
    "iChange = indexMax + i\n",
    "print( iChange )\n",
    "\n",
    "aux = np.copy( A[ k, : ] )\n",
    "print( aux )\n",
    "\n",
    "#trocando a linha\n",
    "A[ k, : ] = np.copy( A[ iChange, : ] )\n",
    "A[ iChange, : ] = np.copy( aux )\n",
    "\n",
    "print(A)"
   ]
  },
  {
   "cell_type": "code",
   "execution_count": 32,
   "metadata": {},
   "outputs": [
    {
     "name": "stdout",
     "output_type": "stream",
     "text": [
      "[[ 3  2  4 -1]\n",
      " [ 0  1  0  3]\n",
      " [ 0 -3 -5  7]\n",
      " [ 0  2  4  0]]\n",
      "n  3\n",
      "k  1\n",
      "i 2\n",
      "n Ultimo  3 \n",
      "\n",
      "[-3  2]\n",
      "colAbs \n",
      " [3 2]\n",
      "0\n",
      "[[ 3  2  4 -1]\n",
      " [ 0 -3 -5  7]\n",
      " [ 0  1  0  3]\n",
      " [ 0  2  4  0]]\n",
      "m  -0.3333333333333333\n",
      "j 2\n",
      "j 3\n",
      "i 3\n",
      "n Ultimo  3 \n",
      "\n",
      "[2]\n",
      "colAbs \n",
      " [2]\n",
      "0\n",
      "[[ 3  2  4 -1]\n",
      " [ 0  2  4  0]\n",
      " [ 0  0  0  3]\n",
      " [ 0 -3 -5  7]]\n",
      "m  -1.5\n",
      "j 2\n",
      "j 3\n",
      "k  2\n",
      "i 3\n",
      "n Ultimo  3 \n",
      "\n",
      "[-5]\n",
      "colAbs \n",
      " [5]\n",
      "0\n",
      "[[ 3  2  4 -1]\n",
      " [ 0  2  4  0]\n",
      " [ 0  0 -5  7]\n",
      " [ 0  0  0  3]]\n",
      "m  -0.0\n",
      "j 3\n"
     ]
    },
    {
     "data": {
      "text/plain": [
       "array([[ 3,  2,  4, -1],\n",
       "       [ 0,  2,  4,  0],\n",
       "       [ 0,  0, -5,  7],\n",
       "       [ 0,  0,  0,  3]])"
      ]
     },
     "execution_count": 32,
     "metadata": {},
     "output_type": "execute_result"
    }
   ],
   "source": [
    "import numpy as np\n",
    "\n",
    "def pivoteamentoParcial(A, k, i):\n",
    "\n",
    "  n = np.shape(A)[0] - 1 #último index\n",
    "  print('n Ultimo ', n, '\\n')\n",
    "\n",
    "  #slicing\n",
    "  print( np.array( A[ i : n + 1, k ] ) )\n",
    "\n",
    "  #Localizando o  maior valor na coluna do pivô, depois do pivô\n",
    "  col = A[ i : n + 1, k ]\n",
    "\n",
    "  colAbs = np.abs( col )\n",
    "  print( 'colAbs \\n', colAbs )\n",
    "\n",
    "  indexMax = np.argmax( colAbs )\n",
    "  print( indexMax )\n",
    "\n",
    "\n",
    "  #Trocando a coluna\n",
    "  iChange = indexMax + i\n",
    "  #print( ,iChange )\n",
    "\n",
    "  aux = np.copy( A[ k, : ] )\n",
    "  #print( aux )\n",
    "\n",
    "  A[ k, : ] = np.copy( A[ iChange, : ] )\n",
    "  A[ iChange, : ] = np.copy( aux )\n",
    "\n",
    "  print(A)\n",
    "\n",
    "  return A\n",
    "\n",
    "\n",
    "\n",
    "def eliminacaoDegauss( A, b, n ): #Linha do pivô\n",
    "    for k in np.arange( 1, n ): #\n",
    "        print('k ', k)\n",
    "        for i in np.arange( k + 1, n + 1 ): #Eliminação em cada linha\n",
    "            print('i', i )\n",
    "            A = pivoteamentoParcial(A,k,i) \n",
    "            m = A[ i, k ] / A[ k, k ] #Se for considerada divisão de inteiros dará zero\n",
    "            print('m ', m) \n",
    "            A[ i, k ] = 0\n",
    "            for j in np.arange( k + 1, n + 1 ):\n",
    "                print('j', j )\n",
    "        \n",
    "    return A\n",
    "\n",
    "\n",
    "\n",
    "b = np.array( [ 5., 6., 7., 15. ] )\n",
    "\n",
    "Amat  = np.matrix([[3, 2, 4, -1], [0, 1, 0, 3], [0, -3, -5, 7], [0, 2, 4, 0] ])\n",
    "\n",
    "A = Amat\n",
    "print(A)\n",
    "\n",
    "n = np.shape(A)[0] - 1#último index\n",
    "print('n ', n)\n",
    "\n",
    "eliminacaoDegauss( np.copy( A ), np.copy( b ), n )"
   ]
  },
  {
   "cell_type": "markdown",
   "metadata": {},
   "source": [
    "## Resolução de exemplo em sala"
   ]
  },
  {
   "cell_type": "code",
   "execution_count": 19,
   "metadata": {},
   "outputs": [
    {
     "name": "stdout",
     "output_type": "stream",
     "text": [
      "[ 0.50005001  2.49994999]\n"
     ]
    }
   ],
   "source": [
    "M = np.array([[0.0002, 2],[2,2]])\n",
    "b = np.array([5, 6])\n",
    "x = np.linalg.solve(M,b)\n",
    "print(x)"
   ]
  },
  {
   "cell_type": "code",
   "execution_count": null,
   "metadata": {
    "collapsed": true
   },
   "outputs": [],
   "source": [
    "#Atividade pra casa\n",
    "Passar matriz A, matriz B e número de dígitos da máquina. "
   ]
  }
 ],
 "metadata": {
  "anaconda-cloud": {},
  "kernelspec": {
   "display_name": "Python 3",
   "language": "python",
   "name": "python3"
  },
  "language_info": {
   "codemirror_mode": {
    "name": "ipython",
    "version": 3
   },
   "file_extension": ".py",
   "mimetype": "text/x-python",
   "name": "python",
   "nbconvert_exporter": "python",
   "pygments_lexer": "ipython3",
   "version": "3.6.5"
  }
 },
 "nbformat": 4,
 "nbformat_minor": 1
}
