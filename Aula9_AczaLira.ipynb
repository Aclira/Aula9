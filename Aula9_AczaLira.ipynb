{
 "cells": [
  {
   "cell_type": "code",
   "execution_count": null,
   "metadata": {
    "collapsed": true
   },
   "outputs": [],
   "source": []
  },
  {
   "cell_type": "code",
   "execution_count": null,
   "metadata": {
    "collapsed": true
   },
   "outputs": [],
   "source": [
    "P/ casa(1)"
   ]
  },
  {
   "cell_type": "code",
   "execution_count": null,
   "metadata": {
    "collapsed": true
   },
   "outputs": [],
   "source": [
    "https://en.wikipedia.org/wiki/Gaussian_elimination (Fazer o exemplo e dizer por que não funciona)"
   ]
  },
  {
   "cell_type": "code",
   "execution_count": null,
   "metadata": {
    "collapsed": true
   },
   "outputs": [],
   "source": [
    "P/ casa(2)"
   ]
  },
  {
   "cell_type": "code",
   "execution_count": null,
   "metadata": {
    "collapsed": true
   },
   "outputs": [],
   "source": [
    "#Duas condições\n",
    "#Se elemento zero abaixo do pivô: continue. \n",
    "#Se um dos pivôs for zero mostrar mensagem de erro\n",
    "(Sistema não tem solução se o determinante for igual a zero)"
   ]
  },
  {
   "cell_type": "code",
   "execution_count": 2,
   "metadata": {
    "collapsed": false
   },
   "outputs": [
    {
     "name": "stdout",
     "output_type": "stream",
     "text": [
      "matriz exemplo\n",
      "[[ 1 -1  2]\n",
      " [ 2  1 -1]\n",
      " [-2 -5  3]]\n",
      "[[ 2]\n",
      " [-7]\n",
      " [-5]]\n"
     ]
    }
   ],
   "source": [
    "import numpy as np\n",
    "M = np.array([[1,-1,2],[2,1,-1],[-2,-5,3]])\n",
    "b = np.array([[2],[1],[3]])\n",
    "\n",
    "print(\"matriz exemplo\")\n",
    "print(M)\n",
    "\n",
    "def eliminacao(a,b):\n",
    "    n = len(a)\n",
    "    m = n*[0]\n",
    "    \n",
    "    for k in range(0,n-1):\n",
    "        for i in range(k+1,n):\n",
    "            if a[k][k] == 0:\n",
    "                print(\"Pivo igual a zero, meu\")\n",
    "            m=a[i][k]/a[k][k]\n",
    "            a[i][k] = 0\n",
    "            for j in range(k+1,n):\n",
    "                a[i][j] = a[i][j] - m*a[k][j]\n",
    "                b[i] = b[i] - m*b[k]\n",
    "    return a\n",
    "                \n",
    "\n",
    "\n",
    "eliminacao(M,b)\n",
    "print(b)"
   ]
  },
  {
   "cell_type": "code",
   "execution_count": null,
   "metadata": {
    "collapsed": true
   },
   "outputs": [],
   "source": [
    "P/ casa(3)"
   ]
  },
  {
   "cell_type": "code",
   "execution_count": null,
   "metadata": {
    "collapsed": true
   },
   "outputs": [],
   "source": [
    "#Se determinante = 0: mensagem de erro\n",
    "# else: aplicar gaussElmination\n",
    "#np.linalg.det(a) pra calcular o determinante"
   ]
  },
  {
   "cell_type": "code",
   "execution_count": 17,
   "metadata": {
    "collapsed": false
   },
   "outputs": [
    {
     "name": "stdout",
     "output_type": "stream",
     "text": [
      "Matriz exemplo\n",
      "[[ 1  2  3  4]\n",
      " [ 0  5  6  7]\n",
      " [ 0  0  8  9]\n",
      " [ 0  0  0 10]]\n"
     ]
    },
    {
     "data": {
      "text/plain": [
       "[2.9950000000000001,\n",
       " 0.18999999999999995,\n",
       " 0.27500000000000002,\n",
       " 0.20000000000000001]"
      ]
     },
     "execution_count": 17,
     "metadata": {},
     "output_type": "execute_result"
    }
   ],
   "source": [
    "def PivParcial():\n",
    "    \n",
    "\n",
    "M = np.array([[1,2,3,4], [0,5,6,7], [0,0,8,9],[0,0,0,10]])\n",
    "b = np.array([5,4,4,2])\n",
    "\n",
    "print(\"Matriz exemplo\")\n",
    "print(M)\n",
    "\n",
    "def ResolSisTriang(a,b):\n",
    "    n = len(a)\n",
    "    x = n*[0]\n",
    "    x[n-1] = b[n-1]/a[n-1][n-1]\n",
    "    for k in range(n-1,-1,-1):\n",
    "        s = 0\n",
    "        for j in range(k+1,n):\n",
    "            s = s + a[k][j]*x[j]\n",
    "        x[k] = (b[k]-s)/a[k][k]\n",
    "    return x\n",
    "\n",
    "ResolSisTriang(M,b)\n",
    "#troc linha por coluna = pivoteamento completo\n",
    "#troc linha por linha = parcial"
   ]
  },
  {
   "cell_type": "code",
   "execution_count": null,
   "metadata": {
    "collapsed": true
   },
   "outputs": [],
   "source": [
    "#Mais uma atividade pra casa, colocar esse código dentro do de resolução de sistema triangular\n",
    "#Pivoteamento parcial\n",
    "\n",
    "Amat  = np.matrix([[3, 2, 4, -1], [0, 1, 0, 3], [0, -3, -5, 7], [0, 2, 4, 0] ])\n",
    "Aarr  = np.array([[3, 2, 4, -1], [0, 1, 0, 3], [0, -3, -5, 7], [0, 2, 4, 0] ])\n",
    "\n",
    "\n",
    "A = Amat\n",
    "print(A)\n",
    "\n",
    "k = 1\n",
    "i = 2\n",
    "n = np.shape(A)[0] - 1#último index\n",
    "print('n ', n, '\\n')\n",
    "\n",
    "#slicing\n",
    "#Pegando a parte que ta abaixo do pivô\n",
    "print( np.array( A[ i : n + 1, k ] ) )\n",
    "\n",
    "#Localizando o  maior valor na coluna do pivô, depois do pivô\n",
    "col = A[ i : n + 1, k ]\n",
    "\n",
    "colAbs = np.abs( col )\n",
    "print( 'colAbs \\n', colAbs )\n",
    "\n",
    "#Retorna o index do valor máximo\n",
    "indexMax = np.argmax( colAbs )\n",
    "print( indexMax )\n",
    "\n",
    "\n",
    "#Trocando a coluna\n",
    "iChange = indexMax + i\n",
    "print( iChange )\n",
    "\n",
    "aux = np.copy( A[ k, : ] )\n",
    "print( aux )\n",
    "\n",
    "#trocando a linha\n",
    "A[ k, : ] = np.copy( A[ iChange, : ] )\n",
    "A[ iChange, : ] = np.copy( aux )\n",
    "\n",
    "print(A)"
   ]
  },
  {
   "cell_type": "code",
   "execution_count": 19,
   "metadata": {
    "collapsed": false
   },
   "outputs": [
    {
     "name": "stdout",
     "output_type": "stream",
     "text": [
      "[ 0.50005001  2.49994999]\n"
     ]
    }
   ],
   "source": [
    "M = np.array([[0.0002, 2],[2,2]])\n",
    "b = np.array([5, 6])\n",
    "x = np.linalg.solve(M,b)\n",
    "print(x)"
   ]
  },
  {
   "cell_type": "code",
   "execution_count": null,
   "metadata": {
    "collapsed": true
   },
   "outputs": [],
   "source": [
    "#Atividade pra casa\n",
    "Passar matriz A, matriz B e número de dígitos da máquina. "
   ]
  }
 ],
 "metadata": {
  "anaconda-cloud": {},
  "kernelspec": {
   "display_name": "Python [default]",
   "language": "python",
   "name": "python3"
  },
  "language_info": {
   "codemirror_mode": {
    "name": "ipython",
    "version": 3
   },
   "file_extension": ".py",
   "mimetype": "text/x-python",
   "name": "python",
   "nbconvert_exporter": "python",
   "pygments_lexer": "ipython3",
   "version": "3.5.2"
  }
 },
 "nbformat": 4,
 "nbformat_minor": 1
}
